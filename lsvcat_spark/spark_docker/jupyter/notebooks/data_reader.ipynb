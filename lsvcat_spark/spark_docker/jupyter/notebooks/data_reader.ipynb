{
 "cells": [
  {
   "cell_type": "code",
   "execution_count": 1,
   "metadata": {},
   "outputs": [],
   "source": [
    "import json\n",
    "import os\n",
    "\n",
    "from pyspark import SparkFiles\n",
    "from pyspark.sql import SparkSession\n",
    "from pyspark import SparkConf"
   ]
  },
  {
   "cell_type": "code",
   "execution_count": 2,
   "metadata": {},
   "outputs": [
    {
     "name": "stdout",
     "output_type": "stream",
     "text": [
      "+----------+------------+---------+------+-------------+------+--------+-----+---------------+--------+--------+--------+--------+----------+----------+--------+\n",
      "| timestamp|    location|person_no|car_no|motorcycle_no|bus_no|truck_no| temp|temp_feels_like|temp_min|temp_max|pressure|humidity|visibility|wind_speed|wind_deg|\n",
      "+----------+------------+---------+------+-------------+------+--------+-----+---------------+--------+--------+--------+--------+----------+----------+--------+\n",
      "|1597059182|Times Square|        8|     5|            0|     0|       0|31.05|          34.98|      29|   32.78|    1018|      62|     10000|       1.8|     250|\n",
      "|1597059182|Times Square|        3|     5|            0|     0|       0|31.05|          34.98|      29|   32.78|    1018|      62|     10000|       1.8|     250|\n",
      "|1597059182|Times Square|        4|     1|            0|     0|       0|31.05|          34.98|      29|   32.78|    1018|      62|     10000|       1.8|     250|\n",
      "+----------+------------+---------+------+-------------+------+--------+-----+---------------+--------+--------+--------+--------+----------+----------+--------+\n",
      "\n"
     ]
    }
   ],
   "source": [
    "spark = SparkSession.builder.master(os.environ[\"SPARK_MASTER\"]).appName('kafka_stream_data_reader').getOrCreate()\n",
    "data = spark.read.csv(os.environ[\"CSV_FILES_LOCATION\"], header=True)\n",
    "data.show(n=5)"
   ]
  },
  {
   "cell_type": "code",
   "execution_count": null,
   "metadata": {},
   "outputs": [],
   "source": []
  },
  {
   "cell_type": "code",
   "execution_count": null,
   "metadata": {},
   "outputs": [],
   "source": [
    "\n"
   ]
  },
  {
   "cell_type": "code",
   "execution_count": null,
   "metadata": {},
   "outputs": [],
   "source": []
  }
 ],
 "metadata": {
  "kernelspec": {
   "display_name": "Python 3",
   "language": "python",
   "name": "python3"
  },
  "language_info": {
   "codemirror_mode": {
    "name": "ipython",
    "version": 3
   },
   "file_extension": ".py",
   "mimetype": "text/x-python",
   "name": "python",
   "nbconvert_exporter": "python",
   "pygments_lexer": "ipython3",
   "version": "3.7.3"
  }
 },
 "nbformat": 4,
 "nbformat_minor": 4
}
