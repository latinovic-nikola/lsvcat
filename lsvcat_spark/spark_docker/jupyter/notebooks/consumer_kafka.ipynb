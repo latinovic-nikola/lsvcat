{
 "cells": [
  {
   "cell_type": "code",
   "execution_count": null,
   "metadata": {},
   "outputs": [],
   "source": [
    "import os\n",
    "import json\n",
    "\n",
    "import pyspark\n",
    "from pyspark import SparkContext\n",
    "from pyspark import SparkConf\n",
    "from pyspark import SparkFiles\n",
    "from pyspark.streaming import StreamingContext\n",
    "from pyspark.streaming.kafka import KafkaUtils"
   ]
  },
  {
   "cell_type": "code",
   "execution_count": null,
   "metadata": {},
   "outputs": [],
   "source": [
    "# Initi Spark context and streaming\n",
    "\n",
    "sconf = SparkConf()\n",
    "sconf.setMaster(os.environ[\"SPARK_MASTER\"])\n",
    "app_name = 'default_stream_consumer_app'\n",
    "sc = SparkContext(appName=app_name, conf=sconf)\n",
    "ssc = StreamingContext(sc, 2)"
   ]
  },
  {
   "cell_type": "code",
   "execution_count": null,
   "metadata": {},
   "outputs": [],
   "source": [
    "# Create kafka direct stream\n",
    "\n",
    "kvs = KafkaUtils.createDirectStream(ssc, [os.environ[\"KAFKA_DEFAULT_TOPIC\"]], \n",
    "                                         {\"metadata.broker.list\":os.environ[\"KAFKA_DEFAULT_BROKER\"]})"
   ]
  },
  {
   "cell_type": "code",
   "execution_count": null,
   "metadata": {},
   "outputs": [],
   "source": [
    "# Define expected structure fo the message\n",
    "# Save streaming messages to a csv file\n",
    "\n",
    "from datetime import datetime\n",
    "from pyspark.sql.types import StructType, StructField, StringType\n",
    "from pyspark.sql import SparkSession\n",
    "\n",
    "fields = ['timestamp', 'location', 'person_no', 'car_no', 'motorcycle_no', 'bus_no', 'truck_no', 'temp', 'temp_feels_like', 'temp_min', 'temp_max', 'pressure', 'humidity', 'visibility', 'wind_speed', 'wind_deg']\n",
    "sschema =  StructType([\n",
    "  StructField(field, StringType(), True) for field in fields\n",
    "])\n",
    "\n",
    "def store_result(rdd_raw):\n",
    "    if not rdd_raw.isEmpty():\n",
    "        ss = SparkSession(rdd_raw.context)\n",
    "        df = ss.createDataFrame(rdd_raw, schema=sschema)\n",
    "        print('-----------------------Message received-----------------------------------')\n",
    "        current_time = datetime.now().strftime(\"%H:%M:%S\")\n",
    "        print('Saving message at: %s' % current_time)\n",
    "        df.coalesce(1).write.csv(os.environ[\"CSV_FILES_LOCATION\"], mode='append', header=True)\n",
    "        print('--------------------------------------------------------------------------')\n",
    "\n"
   ]
  },
  {
   "cell_type": "code",
   "execution_count": null,
   "metadata": {},
   "outputs": [],
   "source": [
    "# Parse stream result\n",
    "\n",
    "parsed = kvs.map(lambda v: json.loads(v[1]))\n",
    "parsed.foreachRDD(store_result)"
   ]
  },
  {
   "cell_type": "code",
   "execution_count": null,
   "metadata": {},
   "outputs": [],
   "source": [
    "# Start listening\n",
    "\n",
    "ssc.start()\n",
    "ssc.awaitTermination()"
   ]
  },
  {
   "cell_type": "code",
   "execution_count": null,
   "metadata": {},
   "outputs": [],
   "source": []
  },
  {
   "cell_type": "code",
   "execution_count": null,
   "metadata": {},
   "outputs": [],
   "source": []
  }
 ],
 "metadata": {
  "kernelspec": {
   "display_name": "Python 3",
   "language": "python",
   "name": "python3"
  },
  "language_info": {
   "codemirror_mode": {
    "name": "ipython",
    "version": 3
   },
   "file_extension": ".py",
   "mimetype": "text/x-python",
   "name": "python",
   "nbconvert_exporter": "python",
   "pygments_lexer": "ipython3",
   "version": "3.7.3"
  }
 },
 "nbformat": 4,
 "nbformat_minor": 4
}
